{
 "cells": [
  {
   "cell_type": "code",
   "execution_count": null,
   "id": "44ba7fc9-72b7-4b42-b347-0d82e6065367",
   "metadata": {},
   "outputs": [],
   "source": [
    "import gym\n",
    "import minihack\n",
    "import numpy as np\n",
    "import matplotlib.pyplot as plt\n",
    "import IPython.display as display\n",
    "\n",
    "from collections import deque\n",
    "from queue import PriorityQueue\n",
    "from utilsMinihackSearch import *\n",
    "from typing import Tuple, List"
   ]
  },
  {
   "cell_type": "code",
   "execution_count": null,
   "id": "4acc7850-0c08-484f-9424-297ac5428eb7",
   "metadata": {},
   "outputs": [],
   "source": [
    "# create the environment\n",
    "env = gym.make(\"MiniHack-ExploreMaze-Easy-Mapped-v0\")\n",
    "# reset it to initial state\n",
    "state = env.reset()\n",
    "# render the environment\n",
    "env.render()\n"
   ]
  },
  {
   "cell_type": "code",
   "execution_count": null,
   "id": "502e113f-4c87-4d97-a6f1-75da241bbb38",
   "metadata": {},
   "outputs": [],
   "source": [
    "!python -m minihack.scripts.env_list\n"
   ]
  },
  {
   "cell_type": "code",
   "execution_count": null,
   "id": "a8d31c8e-68a3-48b9-b04c-eb7b2ed70dd3",
   "metadata": {},
   "outputs": [],
   "source": [
    "def build_path(parent: dict, target: Tuple[int, int]) -> List[Tuple[int, int]]:\n",
    "    path = []\n",
    "    while target is not None:\n",
    "        path.append(target)\n",
    "        target = parent[target]\n",
    "    path.reverse()\n",
    "    return path"
   ]
  },
  {
   "cell_type": "code",
   "execution_count": null,
   "id": "cc4ec6d5-bec2-4df7-8538-4a4402fb5f56",
   "metadata": {},
   "outputs": [],
   "source": []
  },
  {
   "cell_type": "code",
   "execution_count": null,
   "id": "7fb41526-b0da-4a44-bb00-bca81a8ca357",
   "metadata": {},
   "outputs": [],
   "source": []
  },
  {
   "cell_type": "markdown",
   "id": "2d4e936c-3041-42ff-8220-2cde5400b649",
   "metadata": {},
   "source": [
    "## Breadth-First Search (BFS)¶"
   ]
  },
  {
   "cell_type": "code",
   "execution_count": null,
   "id": "95465ad1-64da-4dd8-a5b6-2111374d1606",
   "metadata": {},
   "outputs": [],
   "source": [
    "def bfs(game_map: np.ndarray, start: Tuple[int, int], target: Tuple[int, int]) -> List[Tuple[int, int]]:\n",
    "    # Create a queue for BFS and mark the start node as visited\n",
    "    queue = deque()\n",
    "    visited = set()\n",
    "    queue.append(start)\n",
    "    visited.add(start)\n",
    "\n",
    "    # Create a dictionary to keep track of the parent node for each node in the path\n",
    "    parent = {start: None}\n",
    "\n",
    "    while queue:\n",
    "        # Dequeue a vertex from the queue\n",
    "        current = queue.popleft()\n",
    "\n",
    "        # Check if the target node has been reached\n",
    "        if current == target:\n",
    "            print(\"Target found!\")\n",
    "            path = build_path(parent, target)\n",
    "            return path\n",
    "\n",
    "        # Visit all adjacent neighbors of the dequeued vertex\n",
    "        for neighbor in get_valid_moves(game_map, current):\n",
    "            if neighbor not in visited:\n",
    "                queue.append(neighbor)\n",
    "                visited.add(neighbor)\n",
    "                parent[neighbor] = current\n",
    "\n",
    "    print(\"Target node not found!\")\n",
    "    return None"
   ]
  },
  {
   "cell_type": "code",
   "execution_count": null,
   "id": "02680e2d-f6b1-4f4e-a2df-624c5c433fe9",
   "metadata": {},
   "outputs": [],
   "source": [
    "env = gym.make(\"MiniHack-ExploreMaze-Hard-Mapped-v0\", observation_keys=(\"chars\", \"pixel\"))\n",
    "state = env.reset()\n",
    "env.render()"
   ]
  },
  {
   "cell_type": "code",
   "execution_count": null,
   "id": "13fbbd31-c828-49f8-bcbf-7d9e1adb2ffc",
   "metadata": {},
   "outputs": [],
   "source": [
    "plt.imshow(state['pixel'][25:300, :475])"
   ]
  },
  {
   "cell_type": "code",
   "execution_count": null,
   "id": "7cd345e3-ca47-4fad-9235-d1c2258856be",
   "metadata": {},
   "outputs": [],
   "source": [
    "game_map = state['chars']\n",
    "game = state['pixel']"
   ]
  },
  {
   "cell_type": "code",
   "execution_count": null,
   "id": "28d1fb88-b394-4136-bd7e-7461e8b4a0fd",
   "metadata": {},
   "outputs": [],
   "source": []
  },
  {
   "cell_type": "code",
   "execution_count": null,
   "id": "a60d7bf7-c92f-4f2f-9952-a6f85bd0aac1",
   "metadata": {},
   "outputs": [],
   "source": [
    "start = get_player_location(game_map)\n",
    "target = get_target_location(game_map)\n",
    "print(\"Agent position:\", start)\n",
    "print(\"Target position:\", target)"
   ]
  },
  {
   "cell_type": "code",
   "execution_count": null,
   "id": "14c13546-fcb0-41aa-9d54-acfe305d0640",
   "metadata": {},
   "outputs": [],
   "source": [
    "%%time\n",
    "path = bfs(game_map, start, target)"
   ]
  },
  {
   "cell_type": "code",
   "execution_count": null,
   "id": "2a98fb5f-3047-4d75-a161-f45d2cc443af",
   "metadata": {},
   "outputs": [],
   "source": [
    "path"
   ]
  },
  {
   "cell_type": "code",
   "execution_count": null,
   "id": "223e6ca8-4ffe-428d-8fda-34a2161a83d6",
   "metadata": {},
   "outputs": [],
   "source": [
    "actions = actions_from_path(start, path[1:])"
   ]
  },
  {
   "cell_type": "code",
   "execution_count": null,
   "id": "738c0a71-6e25-4dbf-8891-1342e09d018e",
   "metadata": {},
   "outputs": [],
   "source": [
    "actions"
   ]
  },
  {
   "cell_type": "code",
   "execution_count": null,
   "id": "94d94483-af7a-47a6-a8f3-4f964816ed6d",
   "metadata": {},
   "outputs": [],
   "source": [
    "image = plt.imshow(game[25:300, :475])\n",
    "for action in actions:\n",
    "    s, _, _, _ = env.step(action)\n",
    "    display.display(plt.gcf())\n",
    "    display.clear_output(wait=True)\n",
    "    image.set_data(s['pixel'][25:300, :475])"
   ]
  },
  {
   "cell_type": "code",
   "execution_count": null,
   "id": "19ff10f6-58d6-4d67-8fde-aabfad4a728c",
   "metadata": {},
   "outputs": [],
   "source": [
    "env = gym.make(\n",
    "    \"MiniHack-Navigation-Custom-v0\",\n",
    "    observation_keys=(\"chars\", \"pixel\"),\n",
    "    des_file = \"simple_maze.des\",\n",
    ")\n",
    "env.reset()\n",
    "env.render()"
   ]
  },
  {
   "cell_type": "code",
   "execution_count": null,
   "id": "1237798d-d238-47ed-8586-ab6664c9658e",
   "metadata": {},
   "outputs": [],
   "source": [
    "plt.imshow(state['pixel'][:, 300:975])"
   ]
  },
  {
   "cell_type": "code",
   "execution_count": null,
   "id": "9e4b1c1e-eec4-46c9-8f81-972ec3d4fd31",
   "metadata": {},
   "outputs": [],
   "source": [
    "game_map = state['chars']\n",
    "game = state['pixel']\n",
    "start = get_player_location(game_map)\n",
    "target = get_target_location(game_map)"
   ]
  },
  {
   "cell_type": "code",
   "execution_count": null,
   "id": "3da391c5-9aba-4bab-954c-5aa5bdd8fcd7",
   "metadata": {},
   "outputs": [],
   "source": [
    "%%time\n",
    "path = bfs(game_map, start, target)"
   ]
  },
  {
   "cell_type": "code",
   "execution_count": null,
   "id": "28d6ac7b-ba91-4170-8a9e-14089fde1866",
   "metadata": {},
   "outputs": [],
   "source": [
    "actions = actions_from_path(start, path[1:])"
   ]
  },
  {
   "cell_type": "code",
   "execution_count": null,
   "id": "7ed3a285-492d-4c7d-b083-0c8d606bf698",
   "metadata": {},
   "outputs": [],
   "source": [
    "image = plt.imshow(game[:, 300:975])\n",
    "for action in actions:\n",
    "    s, _, _, _ = env.step(action)\n",
    "    display.display(plt.gcf())\n",
    "    display.clear_output(wait=True)\n",
    "    image.set_data(s['pixel'][:, 300:975])"
   ]
  },
  {
   "cell_type": "code",
   "execution_count": null,
   "id": "918f779e-f2e3-4bb5-b063-86b89df0b41d",
   "metadata": {},
   "outputs": [],
   "source": [
    "env = gym.make(\"MiniHack-ExploreMaze-Hard-Mapped-v0\", observation_keys=(\"chars\", \"pixel\"))\n",
    "state = env.reset()\n",
    "env.render()"
   ]
  },
  {
   "cell_type": "code",
   "execution_count": null,
   "id": "d3da9e69-269e-4637-9044-1fdcf7ba2a2d",
   "metadata": {},
   "outputs": [],
   "source": [
    "plt.imshow(state['pixel'][25:300, :475])"
   ]
  },
  {
   "cell_type": "markdown",
   "id": "01889d45-ee02-474d-8534-c1a206a538df",
   "metadata": {},
   "source": [
    "## A* Search Algorithm"
   ]
  },
  {
   "cell_type": "code",
   "execution_count": null,
   "id": "db45af43-edbf-4cd5-8dd2-ca4a807a447b",
   "metadata": {},
   "outputs": [],
   "source": [
    "game_map = state['chars']\n",
    "game = state['pixel']"
   ]
  },
  {
   "cell_type": "code",
   "execution_count": null,
   "id": "cd0a3b9a-9e3f-4fd5-8453-a657d97ff5cf",
   "metadata": {},
   "outputs": [],
   "source": [
    "start = get_player_location(game_map)\n",
    "target = get_target_location(game_map)\n",
    "print(\"Agent position:\", start)\n",
    "print(\"Target position:\", target)"
   ]
  },
  {
   "cell_type": "code",
   "execution_count": null,
   "id": "0db8f293-8865-4d62-91fe-1bf486b666d2",
   "metadata": {},
   "outputs": [],
   "source": [
    "def a_star(game_map: np.ndarray, start: Tuple[int, int], target: Tuple[int, int], h: callable) -> List[Tuple[int, int]]:\n",
    "    # initialize open and close list\n",
    "    open_list = PriorityQueue()\n",
    "    close_list = []\n",
    "    # additional dict which maintains the nodes in the open list for an easier access and check\n",
    "    support_list = {}\n",
    "\n",
    "    starting_state_g = 0\n",
    "    starting_state_h = h(start, target)\n",
    "    starting_state_f = starting_state_g + starting_state_h\n",
    "\n",
    "    open_list.put((starting_state_f, (start, starting_state_g)))\n",
    "    support_list[start] = starting_state_g\n",
    "    parent = {start: None}\n",
    "\n",
    "    while not open_list.empty():\n",
    "        # get the node with lowest f\n",
    "        _, (current, current_cost) = open_list.get()\n",
    "        # add the node to the close list\n",
    "        close_list.append(current)\n",
    "\n",
    "        if current == target:\n",
    "            print(\"Target found!\")\n",
    "            path = build_path(parent, target)\n",
    "            return path\n",
    "\n",
    "        for neighbor in get_valid_moves(game_map, current):\n",
    "            # check if neighbor in close list, if so continue\n",
    "            if neighbor in close_list:\n",
    "                continue\n",
    "            # compute neighbor g, h and f values\n",
    "            neighbor_g = 1 + current_cost\n",
    "            neighbor_h = h(neighbor, target)\n",
    "            neighbor_f = neighbor_g + neighbor_h\n",
    "            parent[neighbor] = current\n",
    "            neighbor_entry = (neighbor_f, (neighbor, neighbor_g))\n",
    "            # if neighbor in open_list\n",
    "            if neighbor in support_list.keys():\n",
    "                # if neighbor_g is greater or equal to the one in the open list, continue\n",
    "                if neighbor_g >= support_list[neighbor]:\n",
    "                    continue\n",
    "            \n",
    "            # add neighbor to open list and update support_list\n",
    "            open_list.put(neighbor_entry)\n",
    "            support_list[neighbor] = neighbor_g\n",
    "\n",
    "    print(\"Target node not found!\")\n",
    "    return None"
   ]
  },
  {
   "cell_type": "code",
   "execution_count": null,
   "id": "f9f37915-bcad-48c9-a38e-1afca0641d3b",
   "metadata": {},
   "outputs": [],
   "source": [
    "%%time\n",
    "path = a_star(game_map, start, target, manhattan_distance)"
   ]
  },
  {
   "cell_type": "code",
   "execution_count": null,
   "id": "66cbf4ae-9e4b-4c78-82d1-df0cc82e26bc",
   "metadata": {},
   "outputs": [],
   "source": [
    "actions = actions_from_path(start, path[1:])"
   ]
  },
  {
   "cell_type": "code",
   "execution_count": null,
   "id": "d1b6b401-d784-4a23-9ff7-c012e64cd3e9",
   "metadata": {},
   "outputs": [],
   "source": [
    "image = plt.imshow(game[25:300, :475])\n",
    "for action in actions:\n",
    "    s, _, _, _ = env.step(action)\n",
    "    display.display(plt.gcf())\n",
    "    display.clear_output(wait=True)\n",
    "    image.set_data(s['pixel'][25:300, :475])"
   ]
  },
  {
   "cell_type": "code",
   "execution_count": null,
   "id": "5233bb3b-4394-4c44-ac36-6984c53598aa",
   "metadata": {},
   "outputs": [],
   "source": [
    "env = gym.make(\n",
    "    \"MiniHack-Navigation-Custom-v0\",\n",
    "    observation_keys=(\"chars\", \"pixel\"),\n",
    "    des_file = \"/home/nazifa/minihack/lib/python3.8/site-packages/simple_maze.des\",\n",
    ")\n",
    "state = env.reset()\n",
    "env.render()"
   ]
  },
  {
   "cell_type": "code",
   "execution_count": null,
   "id": "8696b476-d4ac-480e-8f08-2df935c13828",
   "metadata": {},
   "outputs": [],
   "source": [
    "plt.imshow(state['pixel'][75:300, 450:800])"
   ]
  },
  {
   "cell_type": "code",
   "execution_count": null,
   "id": "e8be09b6-bafd-485c-b79b-8cade977e283",
   "metadata": {},
   "outputs": [],
   "source": [
    "game_map = state['chars']\n",
    "game = state['pixel']\n",
    "start = get_player_location(game_map)\n",
    "target = get_target_location(game_map)"
   ]
  },
  {
   "cell_type": "code",
   "execution_count": null,
   "id": "a50ceb1c-e57b-40c7-b1ca-097f7c14ae7e",
   "metadata": {},
   "outputs": [],
   "source": [
    "%%time\n",
    "path = a_star(game_map, start, target, manhattan_distance)"
   ]
  },
  {
   "cell_type": "code",
   "execution_count": null,
   "id": "93f215dd-3872-456d-9f42-ad50156cfc6b",
   "metadata": {},
   "outputs": [],
   "source": [
    "actions = actions_from_path(start, path[1:])"
   ]
  },
  {
   "cell_type": "code",
   "execution_count": null,
   "id": "4bc984d7-1414-4316-8fcc-2ce5095b7c48",
   "metadata": {},
   "outputs": [],
   "source": [
    "image = plt.imshow(game[75:300, 450:800])\n",
    "for action in actions:\n",
    "    s, _, _, _ = env.step(action)\n",
    "    display.display(plt.gcf())\n",
    "    display.clear_output(wait=True)\n",
    "    image.set_data(s['pixel'][75:300, 450:800])"
   ]
  },
  {
   "cell_type": "code",
   "execution_count": null,
   "id": "85cb7fd9-4d2f-4341-81fa-3bbc4b43b39f",
   "metadata": {},
   "outputs": [],
   "source": [
    "env = gym.make(\n",
    "    \"MiniHack-Navigation-Custom-v0\",\n",
    "    observation_keys=(\"chars\", \"pixel\"),\n",
    "    des_file = \"/home/nazifa/minihack/lib/python3.8/site-packages/complex_maze.des\",\n",
    ")\n",
    "state = env.reset()\n",
    "env.render()"
   ]
  },
  {
   "cell_type": "code",
   "execution_count": null,
   "id": "0f95d7b5-c379-4332-8cbf-0d853981dfb6",
   "metadata": {},
   "outputs": [],
   "source": [
    "plt.imshow(state['pixel'][:, 300:975])"
   ]
  },
  {
   "cell_type": "code",
   "execution_count": null,
   "id": "d5f810a0-2970-4f4f-ad5d-8a9e5c3ef14e",
   "metadata": {},
   "outputs": [],
   "source": [
    "game_map = state['chars']\n",
    "game = state['pixel']\n",
    "start = get_player_location(game_map)\n",
    "target = get_target_location(game_map)"
   ]
  },
  {
   "cell_type": "code",
   "execution_count": null,
   "id": "6781c447-1a57-4fd7-a68a-8d3ee53175d9",
   "metadata": {},
   "outputs": [],
   "source": [
    "%%time\n",
    "path = a_star(game_map, start, target, manhattan_distance)"
   ]
  },
  {
   "cell_type": "code",
   "execution_count": null,
   "id": "bb4a774f-06a6-4aaf-98dc-1571440f8c4f",
   "metadata": {},
   "outputs": [],
   "source": [
    "actions = actions_from_path(start, path[1:])"
   ]
  },
  {
   "cell_type": "code",
   "execution_count": null,
   "id": "3409c8dc-5c35-4e42-96b6-7d9cf28eec06",
   "metadata": {},
   "outputs": [],
   "source": [
    "image = plt.imshow(game[:, 300:975])\n",
    "for action in actions:\n",
    "    s, _, _, _ = env.step(action)\n",
    "    display.display(plt.gcf())\n",
    "    display.clear_output(wait=True)\n",
    "    image.set_data(s['pixel'][:, 300:975])"
   ]
  },
  {
   "cell_type": "code",
   "execution_count": null,
   "id": "81b8915a-315c-438a-af85-b86a8006f510",
   "metadata": {},
   "outputs": [],
   "source": []
  },
  {
   "cell_type": "code",
   "execution_count": null,
   "id": "dc74747d-74b0-42f2-b470-2687a61ba261",
   "metadata": {},
   "outputs": [],
   "source": [
    "env = gym.make(\n",
    "    \"MiniHack-Navigation-Custom-v0\",\n",
    "    observation_keys=(\"chars\", \"pixel_crop\"),\n",
    "    des_file = \"/home/nazifa/minihack/lib/python3.8/site-packages/complex_maze.des\",\n",
    ")\n",
    "state = env.reset()\n",
    "env.render()"
   ]
  },
  {
   "cell_type": "code",
   "execution_count": null,
   "id": "051b0a6b-1f39-4b1f-976b-59d77320012e",
   "metadata": {},
   "outputs": [],
   "source": [
    "plt.imshow(state['pixel_crop'])"
   ]
  },
  {
   "cell_type": "code",
   "execution_count": null,
   "id": "3dbf32b4-29ff-4b73-b48f-219c92acefe2",
   "metadata": {},
   "outputs": [],
   "source": [
    "game_map = state['chars']\n",
    "game = state['pixel_crop']\n",
    "start = get_player_location(game_map)\n",
    "target = get_target_location(game_map)"
   ]
  },
  {
   "cell_type": "code",
   "execution_count": null,
   "id": "3be3cea1-803b-48a6-90d2-406a32605d57",
   "metadata": {},
   "outputs": [],
   "source": [
    "%%time\n",
    "path = a_star(game_map, start, target, manhattan_distance)"
   ]
  },
  {
   "cell_type": "code",
   "execution_count": null,
   "id": "ddc0374c-6d85-4b47-b802-ba06ae9f15c0",
   "metadata": {},
   "outputs": [],
   "source": [
    "actions = actions_from_path(start, path[1:])"
   ]
  },
  {
   "cell_type": "code",
   "execution_count": null,
   "id": "6a26a153-8350-4647-9b1c-583bb7c74f9d",
   "metadata": {},
   "outputs": [],
   "source": [
    "image = plt.imshow(game)\n",
    "for action in actions:\n",
    "    s, _, _, _ = env.step(action)\n",
    "    display.display(plt.gcf())\n",
    "    display.clear_output(wait=True)\n",
    "    image.set_data(s['pixel_crop'])"
   ]
  },
  {
   "cell_type": "markdown",
   "id": "2f147c6d-8ac1-48a7-8008-8aae8f796240",
   "metadata": {},
   "source": [
    "## Hill Climb search\n",
    "\n"
   ]
  },
  {
   "cell_type": "code",
   "execution_count": null,
   "id": "4e77e632-91ba-4ed0-b0a7-2039b88c0870",
   "metadata": {},
   "outputs": [],
   "source": [
    "def build_path_HillClimb(parent: dict, start: Tuple[int, int], target: Tuple[int, int]) -> List[Tuple[int, int]]:\n",
    "    path = []\n",
    "    current = target\n",
    "\n",
    "    while current is not None and current != start:\n",
    "        path.append(current)\n",
    "        current = parent[current]\n",
    "\n",
    "    path.append(start)  # Add the starting point to the path\n",
    "    path.reverse()\n",
    "\n",
    "    return path"
   ]
  },
  {
   "cell_type": "code",
   "execution_count": null,
   "id": "00f4561a-0418-4c7b-85f9-1163fc0e6cc5",
   "metadata": {},
   "outputs": [],
   "source": [
    "def hill_climb(game_map: np.ndarray, start: Tuple[int, int], target: Tuple[int, int], h: callable) -> List[Tuple[int, int]]:\n",
    "    # initialize open and close list\n",
    "    open_list = [start]\n",
    "    close_list = []\n",
    "    parent = {start: None}\n",
    "\n",
    "    while open_list:\n",
    "        # getting the current node\n",
    "        current = open_list.pop()\n",
    "        # adding the node to the close list\n",
    "        close_list.append(current)\n",
    "\n",
    "        if current == target:\n",
    "            print(\"Target found!\")\n",
    "            path = build_path_HillClimb(parent, start,target)\n",
    "            return path\n",
    "\n",
    "        for neighbor in get_valid_moves(game_map, current):\n",
    "            # check if neighbor in close list, if so continue\n",
    "            if neighbor in close_list:\n",
    "                continue\n",
    "\n",
    "            # compute neighbor h value\n",
    "            neighbor_h = h(neighbor, target)\n",
    "            parent[neighbor] = current\n",
    "            # if neighbor not in open list, adding it\n",
    "            if neighbor not in open_list:\n",
    "                open_list.append(neighbor)\n",
    "\n",
    "    print(\"Target node not found!\")\n",
    "    return None"
   ]
  },
  {
   "cell_type": "code",
   "execution_count": null,
   "id": "3d2edf43-f609-4e64-9c76-07d39ba14928",
   "metadata": {},
   "outputs": [],
   "source": [
    "env = gym.make(\"MiniHack-ExploreMaze-Hard-Mapped-v0\", observation_keys=(\"chars\", \"pixel\"))\n",
    "state = env.reset()\n",
    "env.render()"
   ]
  },
  {
   "cell_type": "code",
   "execution_count": null,
   "id": "c187520a-61b9-4327-bb8d-346741516877",
   "metadata": {},
   "outputs": [],
   "source": [
    "plt.imshow(state['pixel'][25:300, :475])"
   ]
  },
  {
   "cell_type": "code",
   "execution_count": null,
   "id": "3c53ba0d-d5c5-4fbc-a504-344e510004e5",
   "metadata": {},
   "outputs": [],
   "source": [
    "game_map = state['chars']\n",
    "game = state['pixel']"
   ]
  },
  {
   "cell_type": "code",
   "execution_count": null,
   "id": "62860d3a-987d-40d8-be77-781741a33dd0",
   "metadata": {},
   "outputs": [],
   "source": [
    "start = get_player_location(game_map)\n",
    "target = get_target_location(game_map)\n",
    "print(\"Agent position:\", start)\n",
    "print(\"Target position:\", target)"
   ]
  },
  {
   "cell_type": "code",
   "execution_count": null,
   "id": "0de6ceb7-3fcf-4aab-800a-dff9c027be91",
   "metadata": {},
   "outputs": [],
   "source": [
    "%%time\n",
    "path = hill_climb(game_map, start, target, manhattan_distance)"
   ]
  },
  {
   "cell_type": "code",
   "execution_count": null,
   "id": "c74f5441-afa0-4e5e-9ca5-d0b9631b136d",
   "metadata": {},
   "outputs": [],
   "source": [
    "path"
   ]
  },
  {
   "cell_type": "code",
   "execution_count": null,
   "id": "8b9bf73b-add0-43d0-8d5d-7edb8fe68baa",
   "metadata": {},
   "outputs": [],
   "source": [
    "actions = actions_from_path(start, path[1:])"
   ]
  },
  {
   "cell_type": "code",
   "execution_count": null,
   "id": "1b8b7a76-c226-476c-af67-fbab14eeea4a",
   "metadata": {},
   "outputs": [],
   "source": [
    "image = plt.imshow(game)\n",
    "for action in actions:\n",
    "    s, _, _, _ = env.step(action)\n",
    "    display.display(plt.gcf())\n",
    "    display.clear_output(wait=True)\n",
    "    image.set_data(s['pixel_crop'])"
   ]
  },
  {
   "cell_type": "code",
   "execution_count": null,
   "id": "5896a914-4494-4e3f-8e8e-d63a6eac1383",
   "metadata": {},
   "outputs": [],
   "source": []
  },
  {
   "cell_type": "markdown",
   "id": "9796e4be",
   "metadata": {},
   "source": [
    "# Genetic Algorithm"
   ]
  },
  {
   "cell_type": "code",
   "execution_count": null,
   "id": "737cc8cb",
   "metadata": {},
   "outputs": [],
   "source": [
    "'''INITIALIZE ENVIRONMENT'''\n",
    "\n",
    "import gym\n",
    "import minihack\n",
    "import matplotlib.pyplot as plt\n",
    "import IPython.display as display\n",
    "from dotenv import load_dotenv\n",
    "import os\n",
    "import matplotlib.pyplot as plt\n",
    "\n",
    "env_opts = {\n",
    "    \"id\": \"MiniHack-Navigation-Custom-v0\",\n",
    "    \"des_file\": \"complex_maze.des\",\n",
    "    \"observation_keys\": (\"chars\", \"pixel\"),\n",
    "}\n",
    "env = gym.make(\n",
    "    env_opts[\"id\"],\n",
    "    observation_keys=env_opts[\"observation_keys\"],\n",
    "    des_file = env_opts[\"des_file\"],\n",
    ")\n",
    "state = env.reset()\n",
    "game = state['pixel']\n",
    "image = plt.imshow(game[0:700, 300:1000])  #for complex maze\n",
    "#image = plt.imshow(game[75:300, 450:800])   #for simple maze"
   ]
  },
  {
   "cell_type": "code",
   "execution_count": null,
   "id": "a342a6ca",
   "metadata": {},
   "outputs": [],
   "source": [
    "'''LOAD ENVIRONMENT VARIABLES'''\n",
    "\n",
    "load_dotenv(\".env\", override=True)\n",
    "\n",
    "epochs = int(os.getenv('epochs'))\n",
    "n_genes = int(os.getenv('n_genes'))\n",
    "path_length = int(os.getenv('path_length'))\n",
    "substring_length = int(os.getenv('substring_length'))\n",
    "shuffle_size = int(os.getenv('shuffle_size'))\n",
    "\n",
    "print(epochs)\n",
    "print(n_genes)\n",
    "print(path_length)\n",
    "print(substring_length)\n",
    "print(shuffle_size)"
   ]
  },
  {
   "cell_type": "code",
   "execution_count": null,
   "id": "031eb53a",
   "metadata": {},
   "outputs": [],
   "source": [
    "'''CREATE \"n_processes\" POPULATIONS, EACH WITH \"n_genes\" PATHS'''\n",
    "\n",
    "from multiprocessing import Process, Queue\n",
    "from ga import ga\n",
    "\n",
    "q = Queue()\n",
    "n_processes = 8\n",
    "processes = []\n",
    "\n",
    "for i in range(n_processes):\n",
    "    p = Process(target=ga, args=(env_opts, n_genes, path_length, epochs, substring_length, shuffle_size, q))\n",
    "    p.start()\n",
    "    processes.append(p)\n",
    "for p in processes:\n",
    "    p.join()"
   ]
  },
  {
   "cell_type": "code",
   "execution_count": null,
   "id": "f6c90ae2",
   "metadata": {},
   "outputs": [],
   "source": [
    "paths = []\n",
    "while q.empty() == False:\n",
    "    paths.append(q.get())\n",
    "len(paths)"
   ]
  },
  {
   "cell_type": "code",
   "execution_count": null,
   "id": "29075018",
   "metadata": {},
   "outputs": [],
   "source": [
    "len(paths[i])"
   ]
  },
  {
   "cell_type": "code",
   "execution_count": null,
   "id": "b9be795b",
   "metadata": {},
   "outputs": [],
   "source": [
    "'''EXTRACT THE BEST PATH FROM ALL POPULATIONS'''\n",
    "from ga import heuristic2\n",
    "best_path = []\n",
    "min_target_distance = 0\n",
    "    \n",
    "for path in paths:\n",
    "    state = env.reset()\n",
    "    game_map = state['chars']\n",
    "    game = state['pixel']\n",
    "    h = heuristic2(env, path)\n",
    "    print(h)\n",
    "    if h > min_target_distance:\n",
    "        best_path = path\n",
    "        min_target_distance = h\n",
    "print(min_target_distance)\n",
    "print(best_path)"
   ]
  },
  {
   "cell_type": "code",
   "execution_count": null,
   "id": "71697c4a",
   "metadata": {},
   "outputs": [],
   "source": [
    "len(best_path)"
   ]
  },
  {
   "cell_type": "code",
   "execution_count": null,
   "id": "68ba2b20",
   "metadata": {},
   "outputs": [],
   "source": [
    "def display_game(image, path):\n",
    "    try:\n",
    "        for move in path:\n",
    "            s, _, _, _ = env.step(move)\n",
    "            display.display(plt.gcf())\n",
    "            display.clear_output(wait=True)\n",
    "            image.set_data(s['pixel'][0:700, 300:1000])\n",
    "    except:\n",
    "        return\n",
    "    \n",
    "path = best_path\n",
    "state = env.reset()\n",
    "game_map = state['chars']\n",
    "game = state['pixel']\n",
    "image = plt.imshow(game[0:700, 300:1000])\n",
    "points = display_game(image, path)"
   ]
  }
 ],
 "metadata": {
  "kernelspec": {
   "display_name": "Python 3 (ipykernel)",
   "language": "python",
   "name": "python3"
  },
  "language_info": {
   "codemirror_mode": {
    "name": "ipython",
    "version": 3
   },
   "file_extension": ".py",
   "mimetype": "text/x-python",
   "name": "python",
   "nbconvert_exporter": "python",
   "pygments_lexer": "ipython3",
   "version": "3.10.13"
  }
 },
 "nbformat": 4,
 "nbformat_minor": 5
}
