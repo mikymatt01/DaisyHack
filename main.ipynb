{
 "cells": [
  {
   "cell_type": "code",
   "execution_count": null,
   "metadata": {},
   "outputs": [],
   "source": [
    "import gym\n",
    "import minihack\n",
    "import matplotlib.pyplot as plt\n",
    "import IPython.display as display\n",
    "from geneticAlgorithm import initialize, selection, crossover, mutation\n",
    "from utilsMinihackSearch import get_player_location, get_target_location, manhattan_distance, euclidean_distance\n",
    "import time\n",
    "from copy import deepcopy\n",
    "\n",
    "env = gym.make(\"MiniHack-ExploreMaze-Easy-Mapped-v0\", observation_keys=(\"chars\", \"pixel\"))\n",
    "initial_state = env.reset()\n",
    "env.render()\n",
    "\n",
    "action_map = {\n",
    "    \"w\": 0,\n",
    "    \"d\": 1,\n",
    "    \"s\": 2,\n",
    "    \"a\": 3\n",
    "}\n",
    "\n",
    "def play_game(image, path, game_map):\n",
    "    target_location = get_target_location(game_map)\n",
    "    for move in path:\n",
    "        s, _, _, _ = env.step(move)\n",
    "        display.display(plt.gcf())\n",
    "        display.clear_output(wait=True)\n",
    "        image.set_data(s['pixel'][25:300, :475])\n",
    "    player_location = get_player_location(game_map)\n",
    "    return manhattan_distance(player_location, target_location)\n",
    "    \n",
    "epochs = 50\n",
    "moves = [0,1,2,3]\n",
    "n_paths = 5\n",
    "path_length = 30\n",
    "paths = initialize.initialize_population(n_paths, moves, path_length)\n",
    "\n",
    "for i in range(epochs):\n",
    "    heuristic_results = []\n",
    "    for i in range(len(paths)):\n",
    "        state = deepcopy(initial_state)\n",
    "        game_map = state['chars']\n",
    "        game = state['pixel']\n",
    "        image = plt.imshow(game[25:300, :475])\n",
    "        points = play_game(image, paths[i], game_map)\n",
    "        heuristic_results.append(points)\n",
    "        time.sleep(1)\n",
    "    paths = selection.rouletteWheelSelection(paths, heuristic_results)\n",
    "    crossover.singlePointCrossover(paths)\n",
    "    mutation.displacement_mutation(paths)\n",
    "\n",
    "\n"
   ]
  },
  {
   "cell_type": "code",
   "execution_count": null,
   "metadata": {},
   "outputs": [],
   "source": []
  }
 ],
 "metadata": {
  "kernelspec": {
   "display_name": "nle",
   "language": "python",
   "name": "python3"
  },
  "language_info": {
   "codemirror_mode": {
    "name": "ipython",
    "version": 3
   },
   "file_extension": ".py",
   "mimetype": "text/x-python",
   "name": "python",
   "nbconvert_exporter": "python",
   "pygments_lexer": "ipython3",
   "version": "3.10.13"
  },
  "orig_nbformat": 4
 },
 "nbformat": 4,
 "nbformat_minor": 2
}
