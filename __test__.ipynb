{
 "cells": [
  {
   "cell_type": "code",
   "execution_count": null,
   "metadata": {},
   "outputs": [],
   "source": [
    "import gym\n",
    "import minihack\n",
    "import matplotlib.pyplot as plt\n",
    "import IPython.display as display\n",
    "import matplotlib.pyplot as plt\n",
    "\n",
    "env = gym.make(\n",
    "    \"MiniHack-Navigation-Custom-v0\",\n",
    "    observation_keys=(\"chars\", \"pixel\"),\n",
    "    des_file = \"complex_maze.des\",\n",
    ")\n",
    "state = env.reset()\n",
    "game = state['pixel']\n",
    "image = plt.imshow(game[0:700, 300:1000]) "
   ]
  },
  {
   "cell_type": "code",
   "execution_count": null,
   "metadata": {},
   "outputs": [],
   "source": [
    "def display_game(image):\n",
    "    action = {\n",
    "        \"w\": 0,\n",
    "        \"d\": 1,\n",
    "        \"s\": 2,\n",
    "        \"a\": 3,\n",
    "    }\n",
    "    path = []\n",
    "    d = False\n",
    "    while d == False:\n",
    "        move = input(\"command: \")\n",
    "        path.append(action[move])\n",
    "        s, _, d, _ = env.step(action[move])\n",
    "        display.display(plt.gcf())\n",
    "        display.clear_output(wait=True)\n",
    "        image.set_data(s['pixel'][0:700, 300:1000])\n",
    "    return path\n",
    "    \n",
    "state = env.reset()\n",
    "game_map = state['chars']\n",
    "game = state['pixel']\n",
    "image = plt.imshow(game[0:700, 300:1000])\n",
    "points = display_game(image)\n"
   ]
  },
  {
   "cell_type": "code",
   "execution_count": null,
   "metadata": {},
   "outputs": [],
   "source": [
    "print(points)\n",
    "print(len(points))"
   ]
  }
 ],
 "metadata": {
  "kernelspec": {
   "display_name": "nle",
   "language": "python",
   "name": "python3"
  },
  "language_info": {
   "codemirror_mode": {
    "name": "ipython",
    "version": 3
   },
   "file_extension": ".py",
   "mimetype": "text/x-python",
   "name": "python",
   "nbconvert_exporter": "python",
   "pygments_lexer": "ipython3",
   "version": "3.10.13"
  },
  "orig_nbformat": 4
 },
 "nbformat": 4,
 "nbformat_minor": 2
}
